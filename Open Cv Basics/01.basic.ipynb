{
 "cells": [
  {
   "cell_type": "code",
   "execution_count": 4,
   "metadata": {},
   "outputs": [],
   "source": [
    "import cv2"
   ]
  },
  {
   "cell_type": "code",
   "execution_count": 5,
   "metadata": {},
   "outputs": [],
   "source": [
    "image=cv2.imread(\"/home/jackdaniel/Documents/learnig skill/cv practice/jack.jpg\")"
   ]
  },
  {
   "cell_type": "code",
   "execution_count": 6,
   "metadata": {},
   "outputs": [],
   "source": [
    "cv2.imshow(\"jack\",image)\n",
    "cv2.waitKey()\n",
    "cv2.destroyAllWindows()"
   ]
  },
  {
   "cell_type": "code",
   "execution_count": 93,
   "metadata": {},
   "outputs": [],
   "source": [
    "#gray scal conversion"
   ]
  },
  {
   "cell_type": "code",
   "execution_count": 26,
   "metadata": {},
   "outputs": [],
   "source": [
    "# first method\n",
    "import cv2\n",
    "\n",
    "image=cv2.imread(\"/home/jackdaniel/Documents/learnig skill/cv practice/jack.jpg\",0)\n",
    "cv2.imshow(\"gray scale image\",image)\n",
    "cv2.waitKey()\n",
    "cv2.destroyAllWindows()"
   ]
  },
  {
   "cell_type": "code",
   "execution_count": 7,
   "metadata": {},
   "outputs": [],
   "source": [
    "#second method\n",
    "import cv2\n",
    "\n",
    "image=cv2.imread(\"/home/jackdaniel/Documents/learnig skill/cv practice/jack.jpg\")\n",
    "gray=cv2.cvtColor(image,cv2.COLOR_BGR2GRAY)\n",
    "cv2.imshow(\"gray scale image\",gray)\n",
    "cv2.waitKey()\n",
    "cv2.destroyAllWindows()"
   ]
  },
  {
   "cell_type": "code",
   "execution_count": 30,
   "metadata": {},
   "outputs": [],
   "source": [
    "#hsv convertion"
   ]
  },
  {
   "cell_type": "code",
   "execution_count": 32,
   "metadata": {},
   "outputs": [],
   "source": [
    "import cv2\n",
    "\n",
    "image=cv2.imread(\"/home/jackdaniel/Documents/learnig skill/cv practice/jack.jpg\")\n",
    "hsv=cv2.cvtColor(image,cv2.COLOR_BGR2HSV)\n",
    "cv2.imshow(\"gray scale image\",hsv)\n",
    "cv2.waitKey()\n",
    "cv2.destroyAllWindows()"
   ]
  },
  {
   "cell_type": "code",
   "execution_count": 35,
   "metadata": {},
   "outputs": [],
   "source": [
    "cv2.imshow(\"hue channel\",hsv[:,:,0])\n",
    "cv2.imshow(\"saturation channnel\",hsv[:,:,1])\n",
    "cv2.imshow(\"value channel\",hsv[:,:,2])\n",
    "cv2.waitKey()\n",
    "cv2.destroyAllWindows()"
   ]
  },
  {
   "cell_type": "code",
   "execution_count": 36,
   "metadata": {},
   "outputs": [],
   "source": [
    "#image shapes"
   ]
  },
  {
   "cell_type": "code",
   "execution_count": 52,
   "metadata": {},
   "outputs": [
    {
     "data": {
      "text/plain": [
       "(1200, 1920, 3)"
      ]
     },
     "execution_count": 52,
     "metadata": {},
     "output_type": "execute_result"
    }
   ],
   "source": [
    "image.shape   #for color image"
   ]
  },
  {
   "cell_type": "code",
   "execution_count": 53,
   "metadata": {},
   "outputs": [
    {
     "data": {
      "text/plain": [
       "(1200, 1920)"
      ]
     },
     "execution_count": 53,
     "metadata": {},
     "output_type": "execute_result"
    }
   ],
   "source": [
    "gray.shape   #for gray scale image"
   ]
  },
  {
   "cell_type": "code",
   "execution_count": 43,
   "metadata": {},
   "outputs": [
    {
     "data": {
      "text/plain": [
       "(1200, 1920)"
      ]
     },
     "execution_count": 43,
     "metadata": {},
     "output_type": "execute_result"
    }
   ],
   "source": [
    "image.shape[:2]"
   ]
  },
  {
   "cell_type": "code",
   "execution_count": 44,
   "metadata": {},
   "outputs": [
    {
     "name": "stdout",
     "output_type": "stream",
     "text": [
      "41 40 12\n"
     ]
    }
   ],
   "source": [
    "#BGR value of the mentioned pixel\n",
    "B,G,R=image[0,0]\n",
    "print(B,G,R)"
   ]
  },
  {
   "cell_type": "code",
   "execution_count": 46,
   "metadata": {},
   "outputs": [
    {
     "name": "stdout",
     "output_type": "stream",
     "text": [
      "91 180 41\n"
     ]
    }
   ],
   "source": [
    "B,G,R=gray[0,0]\n",
    "print(B,G,R)"
   ]
  },
  {
   "cell_type": "code",
   "execution_count": 54,
   "metadata": {},
   "outputs": [],
   "source": [
    "#split and merge the image colors"
   ]
  },
  {
   "cell_type": "code",
   "execution_count": 66,
   "metadata": {},
   "outputs": [],
   "source": [
    "import cv2\n",
    "\n",
    "image=cv2.imread(\"/home/jackdaniel/Documents/learnig skill/cv practice/jack.jpg\")\n",
    "B,G,R=cv2.split(image)"
   ]
  },
  {
   "cell_type": "code",
   "execution_count": 57,
   "metadata": {},
   "outputs": [],
   "source": [
    "cv2.imshow(\"red\",R)\n",
    "cv2.imshow(\"green\",G)\n",
    "cv2.imshow(\"blue\",B)\n",
    "cv2.waitKey()\n",
    "cv2.destroyAllWindows()"
   ]
  },
  {
   "cell_type": "code",
   "execution_count": 61,
   "metadata": {},
   "outputs": [],
   "source": [
    "original=cv2.merge([B,G,R])\n",
    "cv2.imshow(\"original image\",original)\n",
    "cv2.waitKey()\n",
    "cv2.destroyAllWindows()"
   ]
  },
  {
   "cell_type": "code",
   "execution_count": 62,
   "metadata": {},
   "outputs": [],
   "source": [
    "# amplify the blue color\n",
    "original=cv2.merge([B+100,G,R])\n",
    "cv2.imshow(\"original image\",original)\n",
    "cv2.waitKey()\n",
    "cv2.destroyAllWindows()"
   ]
  },
  {
   "cell_type": "code",
   "execution_count": 67,
   "metadata": {},
   "outputs": [],
   "source": [
    "import cv2\n",
    "import numpy as np\n",
    "\n",
    "image=cv2.imread(\"/home/jackdaniel/Documents/learnig skill/cv practice/jack.jpg\")\n",
    "zero=np.zeros(image.shape[:2],dtype='uint8')\n",
    "cv2.imshow(\"red\",cv2.merge([zero,zero,R]))\n",
    "cv2.imshow(\"green\",cv2.merge([zero,G,zero]))\n",
    "cv2.imshow(\"blue\",cv2.merge([B,zero,zero]))\n",
    "cv2.waitKey()\n",
    "cv2.destroyAllWindows()"
   ]
  },
  {
   "cell_type": "code",
   "execution_count": 68,
   "metadata": {},
   "outputs": [],
   "source": [
    "# histogram for the image"
   ]
  },
  {
   "cell_type": "code",
   "execution_count": 94,
   "metadata": {},
   "outputs": [],
   "source": [
    "import cv2\n",
    "import numpy as np\n",
    "from matplotlib import pyplot as plt"
   ]
  },
  {
   "cell_type": "code",
   "execution_count": 95,
   "metadata": {},
   "outputs": [
    {
     "data": {
      "image/png": "[encoded data removed]",
      "text/plain": [
       "<Figure size 432x288 with 1 Axes>"
      ]
     },
     "metadata": {
      "needs_background": "light"
     },
     "output_type": "display_data"
    }
   ],
   "source": [
    "histogram=cv2.calcHist([image],[0],None,[256],[0,256])\n",
    "plt.hist(image.ravel(),256,[0,256])\n",
    "plt.show()"
   ]
  },
  {
   "cell_type": "code",
   "execution_count": 96,
   "metadata": {},
   "outputs": [],
   "source": [
    "color=('b','g','r')"
   ]
  },
  {
   "cell_type": "code",
   "execution_count": 97,
   "metadata": {},
   "outputs": [
    {
     "data": {
      "image/png": "[encoded data removed]",
      "text/plain": [
       "<Figure size 432x288 with 1 Axes>"
      ]
     },
     "metadata": {
      "needs_background": "light"
     },
     "output_type": "display_data"
    }
   ],
   "source": [
    "for i,col in enumerate(color):\n",
    "    histogram2=cv2.calcHist([image],[i],None,[256],[0,256])\n",
    "    plt.plot(histogram2,color=col)\n",
    "    plt.xlim([0,256])\n",
    "plt.show()"
   ]
  },
  {
   "cell_type": "code",
   "execution_count": 98,
   "metadata": {},
   "outputs": [],
   "source": [
    "#image scaling"
   ]
  },
  {
   "cell_type": "code",
   "execution_count": 137,
   "metadata": {},
   "outputs": [],
   "source": [
    "import cv2\n",
    "import numpy as np"
   ]
  },
  {
   "cell_type": "code",
   "execution_count": 138,
   "metadata": {},
   "outputs": [],
   "source": [
    "image=cv2.imread(\"/home/jackdaniel/Documents/learnig skill/cv practice/jack.jpg\")"
   ]
  },
  {
   "cell_type": "code",
   "execution_count": 139,
   "metadata": {},
   "outputs": [],
   "source": [
    "#small size\n",
    "small=cv2.pyrDown(image)\n",
    "cv2.imshow(\"small\",small)\n",
    "cv2.waitKey()\n",
    "cv2.destroyAllWindows()"
   ]
  },
  {
   "cell_type": "code",
   "execution_count": 7,
   "metadata": {},
   "outputs": [],
   "source": [
    "#large size\n",
    "large=cv2.pyrUp(small)\n",
    "cv2.imshow(\"large\",large)\n",
    "cv2.waitKey()\n",
    "cv2.destroyAllWindows()"
   ]
  },
  {
   "cell_type": "code",
   "execution_count": 31,
   "metadata": {},
   "outputs": [],
   "source": [
    "#translation \n",
    "\n",
    "import cv2\n",
    "width,height=small.shape[:2]\n",
    "q_w,q_h=width/4,height/4\n",
    "T=np.float32([[1,0,q_w],[0,1,q_h]])  #translation matrix\n",
    "translation=cv2.warpAffine(small,T,(width,height))\n",
    "cv2.imshow(\"Translation\",translation)\n",
    "cv2.waitKey()\n",
    "cv2.destroyAllWindows()"
   ]
  },
  {
   "cell_type": "code",
   "execution_count": 35,
   "metadata": {},
   "outputs": [],
   "source": [
    "#Rotation\n",
    "\n",
    "import cv2\n",
    "import numpy as np\n",
    "\n",
    "width,height=small.shape[:2]\n",
    "rotation_matrix=cv2.getRotationMatrix2D((width/2,height/2),90,.5)  #rotation matrix\n",
    "rotation=cv2.warpAffine(small,rotation_matrix,(width,height))\n",
    "cv2.imshow(\"Rotation\",rotation)\n",
    "cv2.waitKey()\n",
    "cv2.destroyAllWindows()\n"
   ]
  },
  {
   "cell_type": "code",
   "execution_count": 46,
   "metadata": {},
   "outputs": [],
   "source": [
    "#croping \n",
    "\n",
    "import cv2\n",
    "import numpy as np\n",
    "\n",
    "croped=small[200:800,100:600]\n",
    "cv2.imshow(\"original\",small)\n",
    "cv2.waitKey()\n",
    "cv2.destroyAllWindows()\n",
    "cv2.imshow(\"croped\",croped)\n",
    "cv2.waitKey()\n",
    "cv2.destroyAllWindows()"
   ]
  },
  {
   "cell_type": "code",
   "execution_count": 116,
   "metadata": {},
   "outputs": [],
   "source": [
    "#arithmatic operation on image\n",
    "\n",
    "import cv2\n",
    "import numpy as np\n",
    "\n",
    "value=np.ones(small.shape,dtype=\"uint8\")*100\n",
    "\n",
    "bright=cv2.add(small,value)\n",
    "cv2.imshow(\"bright image\",bright)\n",
    "\n",
    "\n",
    "dark=cv2.subtract(small,value)\n",
    "cv2.imshow(\"dark image\",dark)\n",
    "\n",
    "cv2.waitKey()\n",
    "cv2.destroyAllWindows()"
   ]
  },
  {
   "cell_type": "code",
   "execution_count": 97,
   "metadata": {},
   "outputs": [],
   "source": [
    "#making a sqare\n",
    "\n",
    "import cv2\n",
    "import numpy as np\n",
    "\n",
    "background=np.ones((300,300),dtype=\"uint8\")\n",
    "cv2.rectangle(background,(50,50),(250,250),255,-2)\n",
    "cv2.imshow(\"sqare\",background)\n",
    "\n",
    "cv2.waitKey()\n",
    "cv2.destroyAllWindows()\n"
   ]
  },
  {
   "cell_type": "code",
   "execution_count": 105,
   "metadata": {},
   "outputs": [],
   "source": [
    "#making a elipse\n",
    "import cv2\n",
    "import numpy as np\n",
    "\n",
    "background=np.ones((300,300),dtype=\"uint8\")\n",
    "cv2.ellipse(background,(150,150),(150,150),30,0,180,255,-1)\n",
    "cv2.imshow(\"elipse\",background)\n",
    "\n",
    "cv2.waitKey()\n",
    "cv2.destroyAllWindows()"
   ]
  },
  {
   "cell_type": "code",
   "execution_count": 118,
   "metadata": {},
   "outputs": [],
   "source": [
    "#bluring iimage\n",
    "\n",
    "import cv2\n",
    "import numpy as np\n",
    "\n",
    "cv2.imshow(\"original\",small)\n",
    "cv2.waitKey(0)\n",
    "\n",
    "\n",
    "kernel_5x5=np.ones((5,5),dtype=\"uint8\")/25\n",
    "blured=cv2.filter2D(small,-1,kernel)\n",
    "cv2.imshow(\"5x5 kernel\",blured)\n",
    "cv2.waitKey(0)\n",
    "\n",
    "kernel_9x9=np.ones((9,9),dtype=\"uint8\")/81\n",
    "blured=cv2.filter2D(small,-1,kernel)\n",
    "cv2.imshow(\"9x9 kernel\",blured)\n",
    "cv2.waitKey(0)\n",
    "\n",
    "cv2.destroyAllWindows()"
   ]
  },
  {
   "cell_type": "code",
   "execution_count": 125,
   "metadata": {},
   "outputs": [],
   "source": [
    "#other bluring methods\n",
    "\n",
    "import cv2\n",
    "import numpy as np\n",
    "\n",
    "cv2.imshow(\"original\",small)\n",
    "cv2.waitKey(0)\n",
    "\n",
    "\n",
    "blur=cv2.blur(small,(3,3))\n",
    "cv2.imshow(\"blur method\",blur)\n",
    "cv2.waitKey(0)\n",
    "\n",
    "gaussian=cv2.GaussianBlur(small,(7,7),0)\n",
    "cv2.imshow(\"gaussian\",gaussian)\n",
    "cv2.waitKey(0)\n",
    "\n",
    "#takes the median value of all the pixels\n",
    "median=cv2.medianBlur(small,5)\n",
    "cv2.imshow(\"median\",median)\n",
    "cv2.waitKey(0)\n",
    "\n",
    "#noise removal and edge sharpe\n",
    "bilateral=cv2.bilateralFilter(small,9,9,75)\n",
    "cv2.imshow(\"bilateral\",bilateral)\n",
    "cv2.waitKey(0)\n",
    "\n",
    "cv2.destroyAllWindows()"
   ]
  },
  {
   "cell_type": "code",
   "execution_count": 134,
   "metadata": {},
   "outputs": [],
   "source": [
    "#image de-noising\n",
    "import cv2\n",
    "\n",
    "cv2.imshow(\"original\",small)\n",
    "cv2.waitKey(0)\n",
    "\n",
    "denoise=cv2.fastNlMeansDenoisingColored(small,None,5,7,10,18)\n",
    "cv2.imshow(\"De-nosing image\",denoise)\n",
    "cv2.waitKey(0)\n",
    "\n",
    "cv2.destroyAllWindows()"
   ]
  },
  {
   "cell_type": "code",
   "execution_count": null,
   "metadata": {},
   "outputs": [],
   "source": [
    "#sharpening image\n",
    "\n",
    "import cv2\n",
    "import numpy as np\n",
    "\n",
    "image=cv2.imread(\"/home/jackdaniel/Documents/learnig skill/cv practice/gry.jpg\")\n",
    "cv2.imshow(\"original\",image)\n",
    "cv2.waitKey(0)\n",
    "\n",
    "kernel=np.array([[-1,-1,-1],\n",
    "                  [-1,9,-1],\n",
    "                  [-1,-1,-1]])\n",
    "\n",
    "\n",
    "sharpened= cv2.filter2D(image,-1,kernel)\n",
    "cv2.imshow(\"sharpened image\",sharpened)\n",
    "cv2.waitKey(0)\n",
    "\n",
    "cv2.destroyAllWindows()\n"
   ]
  },
  {
   "cell_type": "code",
   "execution_count": null,
   "metadata": {},
   "outputs": [],
   "source": [
    "#Thresholding on images"
   ]
  },
  {
   "cell_type": "code",
   "execution_count": 3,
   "metadata": {},
   "outputs": [],
   "source": [
    "import cv2\n",
    "import numpy as np\n",
    "\n",
    "image=cv2.imread(\"/home/jackdaniel/Documents/learnig skill/cv practice/thres.png\")\n",
    "image=cv2.pyrDown(image)\n",
    "image=cv2.pyrDown(image)\n",
    "cv2.imshow(\"original image\",image)\n",
    "cv2.waitKey(0)\n",
    "\n",
    "\n",
    "ret,thresh1=cv2.threshold(image,127,255,cv2.THRESH_BINARY)\n",
    "cv2.imshow(\"THRESH_BINARY\",thresh1)\n",
    "cv2.waitKey(0)\n",
    "\n",
    "ret,thresh2=cv2.threshold(image,127,255,cv2.THRESH_BINARY_INV)\n",
    "cv2.imshow(\"TTHRESH_BINARY_INV\",thresh2)\n",
    "cv2.waitKey(0)\n",
    "\n",
    "ret,thresh3=cv2.threshold(image,127,255,cv2.THRESH_TRUNC)\n",
    "cv2.imshow(\"THRESH_TRUNC\",thresh3)\n",
    "cv2.waitKey(0)\n",
    "\n",
    "ret,thresh4=cv2.threshold(image,127,255,cv2.THRESH_TOZERO)\n",
    "cv2.imshow(\"THRESH_TOZERO\",thresh4)\n",
    "cv2.waitKey(0)\n",
    "\n",
    "ret,thresh5=cv2.threshold(image,127,255,cv2.THRESH_TOZERO_INV)\n",
    "cv2.imshow(\"THRESH_TOZERO_INV\",thresh5)\n",
    "cv2.waitKey(0)\n",
    "\n",
    "cv2.destroyAllWindows()"
   ]
  },
  {
   "cell_type": "code",
   "execution_count": 12,
   "metadata": {},
   "outputs": [],
   "source": [
    "import cv2\n",
    "import numpy as np\n",
    "\n",
    "image=cv2.imread(\"/home/jackdaniel/Documents/learnig skill/cv practice/gry.jpg\")\n",
    "image=cv2.pyrDown(image)\n",
    "image=cv2.pyrDown(image)\n",
    "cv2.imshow(\"original image\",image)\n",
    "cv2.waitKey(0)\n",
    "\n",
    "\n",
    "ret,thresh1=cv2.threshold(image,127,255,cv2.THRESH_BINARY)\n",
    "cv2.imshow(\"THRESH_BINARY\",thresh1)\n",
    "cv2.waitKey(0)\n",
    "\n",
    "ret,thresh2=cv2.threshold(image,127,255,cv2.THRESH_BINARY_INV)\n",
    "cv2.imshow(\"TTHRESH_BINARY_INV\",thresh2)\n",
    "cv2.waitKey(0)\n",
    "\n",
    "ret,thresh3=cv2.threshold(image,127,255,cv2.THRESH_TRUNC)\n",
    "cv2.imshow(\"THRESH_TRUNC\",thresh3)\n",
    "cv2.waitKey(0)\n",
    "\n",
    "ret,thresh4=cv2.threshold(image,127,255,cv2.THRESH_TOZERO)\n",
    "cv2.imshow(\"THRESH_TOZERO\",thresh4)\n",
    "cv2.waitKey(0)\n",
    "\n",
    "ret,thresh5=cv2.threshold(image,127,255,cv2.THRESH_TOZERO_INV)\n",
    "cv2.imshow(\"THRESH_TOZERO_INV\",thresh5)\n",
    "cv2.waitKey(0)\n",
    "\n",
    "cv2.destroyAllWindows()"
   ]
  },
  {
   "cell_type": "code",
   "execution_count": 7,
   "metadata": {},
   "outputs": [],
   "source": [
    "#Adaptive  threshold"
   ]
  },
  {
   "cell_type": "code",
   "execution_count": null,
   "metadata": {},
   "outputs": [],
   "source": [
    "import cv2\n",
    "import numpy as np\n",
    "\n",
    "image=cv2.imread(\"/home/jackdaniel/Documents/learnig skill/cv practice/book.jpg\",cv2.IMREAD_GRAYSCALE)\n",
    "image=cv2.pyrDown(image)\n",
    "cv2.imshow(\"original image\",image)\n",
    "cv2.waitKey(0)\n",
    "\n",
    "ret,thresh1=cv2.threshold(image,127,255,cv2.THRESH_BINARY)\n",
    "cv2.imshow(\"THRESH_BINARY\",thresh1)\n",
    "cv2.waitKey(0)\n",
    "\n",
    "image=cv2.GaussianBlur(image,(3,3),0)\n",
    "\n",
    "thresh2=cv2.adaptiveThreshold(image,255,cv2.ADAPTIVE_THRESH_MEAN_C,cv2.THRESH_BINARY,3,5)\n",
    "cv2.imshow(\"Adaptive Mean Threshold\",thresh2)\n",
    "cv2.waitKey(0)\n",
    "\n",
    "ret,thresh3=cv2.threshold(image,0,255,cv2.THRESH_BINARY + cv2.THRESH_OTSU)\n",
    "cv2.imshow(\"Otsu's Threshold\",thresh3)\n",
    "cv2.waitKey(0)\n",
    "\n",
    "image=cv2.GaussianBlur(image,(3,3),0)\n",
    "\n",
    "ret,thresh4=cv2.threshold(image,0,255,cv2.THRESH_BINARY + cv2.THRESH_OTSU)\n",
    "cv2.imshow(\"GaussianBlur Otsu's Threshold\",thresh4)\n",
    "cv2.waitKey(0)\n",
    "\n",
    "\n",
    "\n",
    "\n",
    "cv2.destroyAllWindows()"
   ]
  },
  {
   "cell_type": "code",
   "execution_count": 1,
   "metadata": {},
   "outputs": [],
   "source": [
    "#Erosion, Dilation, opening, closing"
   ]
  },
  {
   "cell_type": "code",
   "execution_count": null,
   "metadata": {},
   "outputs": [],
   "source": [
    "import cv2\n",
    "import numpy as np\n",
    "\n",
    "image=cv2.imread(\"/home/jackdaniel/Documents/learnig skill/cv practice/aiw.jpeg\",cv2.IMREAD_GRAYSCALE)\n",
    "image=cv2.pyrDown(image)\n",
    "cv2.imshow(\"original image\",image)\n",
    "cv2.waitKey(0)\n",
    "\n",
    "kernel=np.ones((3,3),dtype=\"uint8\")\n",
    "\n",
    "#erosion\n",
    "erode=cv2.erode(image,kernel,iterations=1)\n",
    "cv2.imshow(\"erosion\",erode)\n",
    "cv2.waitKey(0)\n",
    "\n",
    "#dilation\n",
    "dilate=cv2.dilate(image,kernel,iterations=1)\n",
    "cv2.imshow(\"dilation\",dilate)\n",
    "cv2.waitKey(0)\n",
    "\n",
    "#opening\n",
    "opening=cv2.morphologyEx(image,cv2.MORPH_OPEN,kernel)\n",
    "cv2.imshow(\"opening\",opening)\n",
    "cv2.waitKey(0)\n",
    "\n",
    "#closing\n",
    "closing=cv2.morphologyEx(image,cv2.MORPH_CLOSE,kernel)\n",
    "cv2.imshow(\"closing\",closing)\n",
    "cv2.waitKey(0)\n",
    "\n",
    "cv2.destroyAllWindows()"
   ]
  },
  {
   "cell_type": "code",
   "execution_count": 2,
   "metadata": {},
   "outputs": [],
   "source": [
    "#edge detecction"
   ]
  },
  {
   "cell_type": "code",
   "execution_count": 3,
   "metadata": {},
   "outputs": [],
   "source": [
    "import cv2\n",
    "import numpy as np\n",
    "\n",
    "image=cv2.imread(\"/home/jackdaniel/Documents/learnig skill/cv practice/flow.jpg\")\n",
    "image=cv2.pyrDown(image)\n",
    "cv2.imshow(\"original image\",image)\n",
    "cv2.waitKey(0)\n",
    "\n",
    "#sobel edge detection\n",
    "sobel_x=cv2.Sobel(image,cv2.CV_64F,0,1,ksize=5)\n",
    "sobel_y=cv2.Sobel(image,cv2.CV_64F,1,0,ksize=5)\n",
    "\n",
    "cv2.imshow(\"sobel horizontal\",sobel_x)\n",
    "cv2.waitKey(0)\n",
    "\n",
    "cv2.imshow(\"sobel vertical\",sobel_y)\n",
    "cv2.waitKey(0)\n",
    "\n",
    "sobel=cv2.bitwise_or(sobel_x,sobel_y)\n",
    "cv2.imshow(\"sobel edge detection\",sobel)\n",
    "cv2.waitKey(0)\n",
    "\n",
    "\n",
    "\n",
    "#laplacian edge detection\n",
    "Laplacian=cv2.Laplacian(image,cv2.CV_64F)\n",
    "cv2.imshow(\"Laplacian edge detection\",Laplacian)\n",
    "cv2.waitKey(0)\n",
    "\n",
    "#canny edge detection\n",
    "canny=cv2.Canny(image,50,120)\n",
    "cv2.imshow(\"canny edge detection\",canny)\n",
    "cv2.waitKey(0)\n",
    "\n",
    "\n",
    "cv2.destroyAllWindows()"
   ]
  },
  {
   "cell_type": "code",
   "execution_count": 8,
   "metadata": {},
   "outputs": [],
   "source": [
    "#image segmentation"
   ]
  },
  {
   "cell_type": "code",
   "execution_count": 38,
   "metadata": {},
   "outputs": [],
   "source": [
    "import cv2\n",
    "import numpy as np\n",
    "\n",
    "image=cv2.imread(\"/home/jackdaniel/Documents/learnig skill/cv practice/Shape.png\")\n",
    "#image=cv2.pyrDown(image)\n",
    "cv2.imshow(\"original image\",image)\n",
    "cv2.waitKey(0)\n",
    "\n",
    "#convert into grayscal\n",
    "gray=cv2.cvtColor(image,cv2.COLOR_BGR2GRAY)\n",
    "\n",
    "#find canny edge\n",
    "canny=cv2.Canny(gray,255,255)\n",
    "cv2.imshow(\"canny edge detection\",canny)\n",
    "cv2.waitKey(0)\n",
    "\n",
    "#find contours\n",
    "counter,hierarchy=cv2.findContours(canny,cv2.RETR_EXTERNAL,cv2.CHAIN_APPROX_NONE)\n",
    "cv2.imshow(\"canny edge detection after contours\",canny)\n",
    "cv2.waitKey(0)\n",
    "\n",
    "cv2.drawContours(image,counter,-1,(0,0,255),3)\n",
    "cv2.imshow(\"counter\",image)\n",
    "cv2.waitKey(0)\n",
    "\n",
    "cv2.destroyAllWindows()"
   ]
  },
  {
   "cell_type": "code",
   "execution_count": 36,
   "metadata": {},
   "outputs": [
    {
     "name": "stdout",
     "output_type": "stream",
     "text": [
      "number of counters= 3\n"
     ]
    }
   ],
   "source": [
    "print(\"number of counters=\",len(counter))"
   ]
  },
  {
   "cell_type": "code",
   "execution_count": 33,
   "metadata": {},
   "outputs": [],
   "source": [
    "#sorting counters"
   ]
  },
  {
   "cell_type": "code",
   "execution_count": 8,
   "metadata": {},
   "outputs": [],
   "source": [
    "import cv2\n",
    "import numpy as np\n",
    "\n",
    "image=cv2.imread(\"/home/jackdaniel/Documents/learnig skill/cv practice/Shape.png\")\n",
    "#image=cv2.pyrDown(image)\n",
    "cv2.imshow(\"original image\",image)\n",
    "cv2.waitKey(0)\n",
    "\n",
    "sorted_counter=sorted(counter,key=cv2.contourArea,reverse=True)\n",
    "    \n",
    "for c in sorted_counter:\n",
    "    cv2.drawContours(image,[c],-1,(0,255,255),3)\n",
    "    cv2.waitKey(0)\n",
    "    cv2.imshow(\"counter\",image)\n",
    "   \n",
    "\n",
    "    \n",
    "    \n",
    "cv2.waitKey(0)\n",
    "cv2.destroyAllWindows()"
   ]
  },
  {
   "cell_type": "code",
   "execution_count": null,
   "metadata": {},
   "outputs": [],
   "source": [
    "#Approximate counter"
   ]
  },
  {
   "cell_type": "code",
   "execution_count": 16,
   "metadata": {},
   "outputs": [],
   "source": [
    "import cv2\n",
    "import numpy as np\n",
    "\n",
    "image=cv2.imread(\"/home/jackdaniel/Documents/learnig skill/cv practice/home1.png\")\n",
    "image=cv2.pyrUp(image)\n",
    "original_image=image.copy()\n",
    "cv2.imshow(\"original image\",image)\n",
    "cv2.waitKey(0)\n",
    "\n",
    "#grayscale and threshold\n",
    "\n",
    "gray=cv2.cvtColor(image,cv2.COLOR_BGR2GRAY)\n",
    "ret,thresh=cv2.threshold(gray,127,255,cv2.THRESH_BINARY_INV)\n",
    "\n",
    "\n",
    "#find counter\n",
    "counter,hierarchy=cv2.findContours(thresh.copy(),cv2.RETR_LIST,cv2.CHAIN_APPROX_NONE)\n",
    "\n",
    "for c in counter:\n",
    "    x,y,w,h=cv2.boundingRect(c)\n",
    "    cv2.rectangle(original_image,(x,y),(x+w,y+h),(0,255,0),2)\n",
    "    cv2.imshow(\"bonding rectangle\",original_image)\n",
    "    \n",
    "cv2.waitKey(0)\n",
    "\n",
    "for c in counter:\n",
    "    accuracy=0.03*cv2.arcLength(c,True)\n",
    "    approx=cv2.approxPolyDP(c,accuracy,True)\n",
    "    cv2.drawContours(image,[approx],0,(0,0,255),2)\n",
    "    cv2.imshow(\"approxPolyDP\",image)\n",
    "    \n",
    "cv2.waitKey(0)\n",
    "\n",
    "    \n",
    "    \n",
    "\n",
    "\n",
    "cv2.destroyAllWindows()"
   ]
  },
  {
   "cell_type": "code",
   "execution_count": 17,
   "metadata": {},
   "outputs": [],
   "source": [
    "#convex hull"
   ]
  },
  {
   "cell_type": "code",
   "execution_count": 1,
   "metadata": {},
   "outputs": [],
   "source": [
    "import cv2\n",
    "import numpy as np\n",
    "\n",
    "image=cv2.imread(\"/home/jackdaniel/Documents/learnig skill/cv practice/hand1.jpg\")\n",
    "original_image=image.copy()\n",
    "cv2.imshow(\"original image\",image)\n",
    "cv2.waitKey(0)\n",
    "\n",
    "#threshold\n",
    "gray=cv2.cvtColor(image,cv2.COLOR_BGR2GRAY)\n",
    "ret,thresh=cv2.threshold(gray,176,255,cv2.THRESH_BINARY_INV)\n",
    "\n",
    "#find counter\n",
    "counter,hierarchy=cv2.findContours(thresh.copy(),cv2.RETR_LIST,cv2.CHAIN_APPROX_NONE)\n",
    "\n",
    "#sorting counter by area and remove largest frame counter\n",
    "\n",
    "n=len(counter)-1\n",
    "sorted_counter=sorted(counter,key=cv2.contourArea,reverse=False)[:n]\n",
    "\n",
    "    \n",
    "#iterate counter to draw the coonvex hull\n",
    "\n",
    "for c in  sorted_counter:\n",
    "    hull=cv2.convexHull(c)\n",
    "    cv2.drawContours(image,[hull],0,(0,0,255),5)\n",
    "    cv2.imshow(\"convex hull\",image)\n",
    "    \n",
    "cv2.waitKey(0)\n",
    "\n",
    "    \n",
    "\n",
    "cv2.destroyAllWindows()"
   ]
  }
 ],
 "metadata": {
  "kernelspec": {
   "display_name": "Python 3",
   "language": "python",
   "name": "python3"
  },
  "language_info": {
   "codemirror_mode": {
    "name": "ipython",
    "version": 3
   },
   "file_extension": ".py",
   "mimetype": "text/x-python",
   "name": "python",
   "nbconvert_exporter": "python",
   "pygments_lexer": "ipython3",
   "version": "3.6.8"
  }
 },
 "nbformat": 4,
 "nbformat_minor": 2
}
